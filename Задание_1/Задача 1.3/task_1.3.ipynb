{
 "cells": [
  {
   "cell_type": "code",
   "execution_count": 1,
   "id": "a5ad7622",
   "metadata": {},
   "outputs": [],
   "source": [
    "import csv\n",
    "import psycopg2\n",
    "import logging"
   ]
  },
  {
   "cell_type": "code",
   "execution_count": 2,
   "id": "90db504b",
   "metadata": {},
   "outputs": [],
   "source": [
    "# Настройки подключения к базе данных\n",
    "db_host = 'localhost'\n",
    "db_port = '5432'\n",
    "db_name = 'ns_petproject'\n",
    "db_user = 'postgres'\n",
    "db_password = 'postgres'"
   ]
  },
  {
   "cell_type": "code",
   "execution_count": 3,
   "id": "debd750f",
   "metadata": {},
   "outputs": [],
   "source": [
    "# Настройки логирования\n",
    "log_file = 'data_migration.log'\n",
    "logging.basicConfig(filename=log_file, level=logging.INFO, format='%(asctime)s - %(levelname)s - %(message)s')"
   ]
  },
  {
   "cell_type": "code",
   "execution_count": 4,
   "id": "fa663525",
   "metadata": {},
   "outputs": [],
   "source": [
    "# Функция для выгрузки данных из витрины в CSV-файл\n",
    "def export_data_to_csv():\n",
    "    try:\n",
    "        conn = psycopg2.connect(host=db_host, port=db_port, dbname=db_name, user=db_user, password=db_password)\n",
    "        cursor = conn.cursor()\n",
    "\n",
    "        # Запрос для получения данных из витрины\n",
    "        query = \"SELECT * FROM dm.dm_f101_round_f\"\n",
    "\n",
    "        # Выполнение запроса\n",
    "        cursor.execute(query)\n",
    "        rows = cursor.fetchall()\n",
    "\n",
    "        # Заголовки столбцов\n",
    "        headers = [desc[0] for desc in cursor.description]\n",
    "\n",
    "        # Запись данных в CSV-файл\n",
    "        with open('data_export.csv', 'w', newline='') as csvfile:\n",
    "            writer = csv.writer(csvfile)\n",
    "            writer.writerow(headers)\n",
    "            writer.writerows(rows)\n",
    "\n",
    "        logging.info(\"Data exported to CSV successfully\")\n",
    "\n",
    "    except (Exception, psycopg2.Error) as error:\n",
    "        logging.error(\"Error exporting data to CSV: \" + str(error))\n",
    "\n",
    "    finally:\n",
    "        if conn:\n",
    "            cursor.close()\n",
    "            conn.close()"
   ]
  },
  {
   "cell_type": "code",
   "execution_count": 5,
   "id": "beef740c",
   "metadata": {},
   "outputs": [],
   "source": [
    "# Вызов функций для выполнения выгрузки данных\n",
    "export_data_to_csv()"
   ]
  },
  {
   "cell_type": "code",
   "execution_count": 7,
   "id": "0a8fc012",
   "metadata": {},
   "outputs": [],
   "source": [
    "# Функция для импорта данных из CSV-файла в таблицу\n",
    "def import_data_from_csv():\n",
    "    try:\n",
    "        conn = psycopg2.connect(host=db_host, port=db_port, dbname=db_name, user=db_user, password=db_password)\n",
    "        cursor = conn.cursor()\n",
    "\n",
    "        # Очистка таблицы перед импортом данных\n",
    "        cursor.execute(\"TRUNCATE TABLE dm.dm_f101_round_f_v2\")\n",
    "\n",
    "        # Чтение данных из CSV-файла\n",
    "        with open('data_export.csv', 'r') as f:\n",
    "            cursor.copy_expert(\"COPY dm.dm_f101_round_f_v2 FROM STDIN WITH (FORMAT CSV, HEADER)\", f)\n",
    "    \n",
    "        conn.commit()\n",
    "        logging.info(\"Data imported from CSV successfully\")\n",
    "\n",
    "    except (Exception, psycopg2.Error) as error:\n",
    "        logging.error(\"Error importing data from CSV: \" + str(error))\n",
    "\n",
    "    finally:\n",
    "        if conn:\n",
    "            cursor.close()\n",
    "            conn.close()"
   ]
  },
  {
   "cell_type": "code",
   "execution_count": 8,
   "id": "43cbd7f0",
   "metadata": {},
   "outputs": [],
   "source": [
    "# Вызов функций для импорта данных\n",
    "import_data_from_csv()"
   ]
  },
 ],
 "metadata": {
  "kernelspec": {
   "display_name": "Python 3 (ipykernel)",
   "language": "python",
   "name": "python3"
  },
  "language_info": {
   "codemirror_mode": {
    "name": "ipython",
    "version": 3
   },
   "file_extension": ".py",
   "mimetype": "text/x-python",
   "name": "python",
   "nbconvert_exporter": "python",
   "pygments_lexer": "ipython3",
   "version": "3.8.10"
  }
 },
 "nbformat": 4,
 "nbformat_minor": 5
}
